{
  "nbformat": 4,
  "nbformat_minor": 0,
  "metadata": {
    "colab": {
      "provenance": []
    },
    "kernelspec": {
      "name": "python3",
      "display_name": "Python 3"
    },
    "language_info": {
      "name": "python"
    }
  },
  "cells": [
    {
      "cell_type": "markdown",
      "source": [
        "**THEORY QUESTIONS**"
      ],
      "metadata": {
        "id": "DCTf2ZCI824Q"
      }
    },
    {
      "cell_type": "markdown",
      "source": [
        "**Q1- What is NumPy, and why is it widely used in Python?**\n",
        "\n",
        "ANS- NumPy (Numerical Python) is a library for numerical computing in Python. It provides powerful n-dimensional array objects, fast mathematical operations, and tools for linear algebra, Fourier transforms, and random number generation.\n",
        "\n",
        " Widely used because it is fast (implemented in C), memory-efficient, and forms the foundation for libraries like Pandas, Scikit-learn, TensorFlow, etc.\n",
        "\n",
        " EXAMPLE:\n",
        "\n",
        " import numpy as np\n",
        "\n",
        "Creating a NumPy array\n",
        "\n",
        "arr = np.array([1, 2, 3, 4, 5])\n",
        "\n",
        "print(arr)\n",
        "  \n",
        "Output: [1 2 3 4 5]\n",
        "\n"
      ],
      "metadata": {
        "id": "QXbP7P_KPm-3"
      }
    },
    {
      "cell_type": "markdown",
      "source": [
        "**Q2- How does broadcasting work in NumPy?**\n",
        "\n",
        "ANS- Broadcasting in NumPy is a way of performing operations on arrays of different shapes by automatically expanding the smaller array to match the larger one (without actually copying data).\n",
        "\n",
        "It saves time, memory, and makes code more concise.\n",
        "\n",
        "🔹 Rules of Broadcasting\n",
        "\n",
        "If two arrays differ in dimensions, the smaller array is stretched to match.\n",
        "\n",
        "If dimensions are not compatible (not equal and not 1), broadcasting fails.\n",
        "\n",
        "EXAMPLE:\n",
        "\n",
        "import numpy as np\n",
        "\n",
        "a = np.array([1, 2, 3])\n",
        "\n",
        "b = 5  # scalar\n",
        "\n",
        "print(a + b)\n"
      ],
      "metadata": {
        "id": "4zDrccTmPm7q"
      }
    },
    {
      "cell_type": "markdown",
      "source": [
        "**Q3- What is a Pandas DataFrame?**\n",
        "\n",
        "ANS- A Pandas DataFrame is a 2-dimensional labeled data structure in Python, similar to a spreadsheet or SQL table.\n",
        "\n",
        "Rows have index labels.\n",
        "\n",
        "Columns have names.\n",
        "\n",
        "It can hold different data types (int, float, string, etc.).\n",
        "\n",
        "It’s one of the most powerful tools for data manipulation and analysis.\n",
        "\n",
        "EXAMPLE:\n",
        "\n",
        "import pandas as pd\n",
        "\n",
        "Creating a dictionary\n",
        "\n",
        "data =\n",
        "{\n",
        "    'Name': ['Alice', 'Bob', 'Charlie'],\n",
        "\n",
        "    'Age': [25, 30, 35],\n",
        "\n",
        "    'City': ['New York', 'London', 'Paris']\n",
        "}\n",
        "\n",
        "Convert dictionary into DataFrame\n",
        "\n",
        "df = pd.DataFrame(data)\n",
        "\n",
        "print(df)\n"
      ],
      "metadata": {
        "id": "Us97VNO2Pm4d"
      }
    },
    {
      "cell_type": "markdown",
      "source": [
        "**Q4- Explain the use of the groupby() method in Pandas.**\n",
        "\n",
        "ANS- The groupby() method in Pandas is used to split data into groups, apply an operation (like sum, mean, count, etc.), and then combine the results.\n",
        "\n",
        "It follows the “split → apply → combine” strategy.\n",
        "\n",
        "Split: Divide data into groups based on column(s).\n",
        "\n",
        "Apply: Apply a function (like aggregation, transformation, or filtering).\n",
        "\n",
        "Combine: Merge results into a new DataFrame/Series.\n",
        "\n",
        "EXAMPLE:\n",
        "\n",
        "import pandas as pd\n",
        "\n",
        "Sample data\n",
        "\n",
        "data =\n",
        "{\n",
        "    'Department': ['HR', 'HR', 'IT', 'IT', 'Finance'],\n",
        "    'Employee': ['Alice', 'Bob', 'Charlie', 'David', 'Eve'],\n",
        "    'Salary': [3000, 4000, 5000, 6000, 7000]\n",
        "}\n",
        "\n",
        "df = pd.DataFrame(data)\n",
        "\n",
        "Group by Department and calculate mean salary\n",
        "\n",
        "result = df.groupby('Department')['Salary'].mean()\n",
        "\n",
        "print(result)\n"
      ],
      "metadata": {
        "id": "rUtOddxwPm11"
      }
    },
    {
      "cell_type": "markdown",
      "source": [
        "**Q5- Why is Seaborn preferred for statistical visualizations?**\n",
        "\n",
        "ANS- High-level API → easier than Matplotlib.\n",
        "\n",
        "Built-in statistical plots (boxplot, violin, heatmap, regression).\n",
        "\n",
        "Beautiful default styles.\n",
        "\n",
        "Works directly with Pandas DataFrames.\n",
        "\n",
        "EXAMPLE:\n",
        "\n",
        "import seaborn as sns\n",
        "\n",
        "import matplotlib.pyplot as plt\n",
        "\n",
        "Example dataset\n",
        "\n",
        "tips = sns.load_dataset(\"tips\")\n",
        "\n",
        "Statistical visualization: boxplot\n",
        "\n",
        "sns.boxplot(x=\"day\", y=\"total_bill\", data=tips)\n",
        "\n",
        "plt.show()\n"
      ],
      "metadata": {
        "id": "ytQjNMhcPmy9"
      }
    },
    {
      "cell_type": "markdown",
      "source": [
        "**Q6- What are the differences between NumPy arrays and Python lists?**\n",
        "\n",
        "ANS- A Python list is a general-purpose container that can store elements of different data types, such as integers, strings, and floats, all in the same list. However, because lists store references to objects rather than raw values, they are less memory-efficient and slower when performing numerical computations.\n",
        "\n",
        "In contrast, a NumPy array (ndarray) can only store elements of the same data type, but this restriction makes them much more efficient in terms of speed and memory usage. NumPy arrays are stored in contiguous memory blocks and are implemented in C, which allows for vectorized operations—you can apply mathematical operations to the entire array without writing explicit loops.\n",
        "\n",
        "EXAMPLE:\n",
        "\n",
        "import numpy as np\n",
        "\n",
        "Python List\n",
        "\n",
        "list1 = [1, 2, 3, 4]\n",
        "\n",
        "print([x*2 for x in list1])  \n",
        "\n",
        "Output: [2, 4, 6, 8]   (loop required)\n",
        "\n",
        "NumPy Array\n",
        "\n",
        "arr = np.array([1, 2, 3, 4])\n",
        "\n",
        "print(arr * 2)\n",
        "  \n",
        "Output: [2 4 6 8]   (vectorized, faster)\n"
      ],
      "metadata": {
        "id": "mSt5L4pJPmwZ"
      }
    },
    {
      "cell_type": "markdown",
      "source": [
        "**Q7- What is a heatmap, and when should it be used?**\n",
        "\n",
        "ANS- A heatmap is a data visualization technique that uses colors to represent values in a 2D matrix (rows × columns). The intensity of the color shows how large or small the value is.\n",
        "\n",
        "It’s like a colored spreadsheet where patterns and relationships become easier to see.\n",
        "\n",
        "**A heatmap is useful when you want to:**\n",
        "\n",
        "Show the correlation between variables (e.g., in a dataset).\n",
        "\n",
        "Visualize a confusion matrix in machine learning.\n",
        "\n",
        "Display patterns, intensity, or density in data (e.g., website clicks, temperatures, sales across regions).\n",
        "\n",
        "Compare values across two dimensions quickly.\n",
        "\n",
        "EXAMPLE:\n",
        "\n",
        "import seaborn as sns\n",
        "\n",
        "import matplotlib.pyplot as plt\n",
        "\n",
        "import pandas as pd\n",
        "\n",
        "Sample data\n",
        "\n",
        "data = pd.DataFrame({\n",
        "\n",
        "    \"Math\": [80, 90, 70, 60, 85],\n",
        "    \"Science\": [78, 85, 75, 65, 88],\n",
        "    \"English\": [82, 88, 72, 70, 80]\n",
        "})\n",
        "\n",
        "Create correlation heatmap\n",
        "\n",
        "sns.heatmap(data.corr(), annot=True, cmap=\"coolwarm\")\n",
        "\n",
        "plt.show()\n"
      ],
      "metadata": {
        "id": "hpfDBk7LTX6H"
      }
    },
    {
      "cell_type": "markdown",
      "source": [
        "**Q8- What does the term “vectorized operation” mean in NumPy?**\n",
        "\n",
        "ANS- A vectorized operation in NumPy means performing a mathematical operation on an entire array at once, without writing explicit loops in Python.\n",
        "\n",
        "Instead of processing elements one by one, NumPy uses optimized C code under the hood, making the operation much faster and more efficient.\n",
        "\n",
        "**Why it’s important**\n",
        "\n",
        "Speed: Much faster than Python loops.\n",
        "\n",
        "Cleaner code: Short, readable expressions.\n",
        "\n",
        "Efficiency: Uses less memory and processing time.\n",
        "\n",
        "EXAMPLE:\n",
        "\n",
        "import numpy as np\n",
        "\n",
        "arr = np.array([1, 2, 3, 4, 5])\n",
        "\n",
        "Vectorized operation (no loop needed)\n",
        "\n",
        "print(arr * 2)  \n",
        "\n",
        "Output: [ 2  4  6  8 10 ]\n",
        "\n",
        "Equivalent Python loop (slower)\n",
        "\n",
        "result = [x * 2 for x in [1, 2, 3, 4, 5]]\n",
        "\n",
        "print(result)  \n",
        "\n",
        "Output: [2, 4, 6, 8, 10]\n"
      ],
      "metadata": {
        "id": "sZkP7WKXTYWi"
      }
    },
    {
      "cell_type": "markdown",
      "source": [
        "**Q9- How does Matplotlib differ from Plotly?**\n",
        "\n",
        "ANS- Matplotlib and Plotly are both popular Python libraries for data visualization, but they serve different purposes. Matplotlib is mainly used for creating static plots that are highly customizable and suitable for research papers, publications, and reports. It requires more code for styling but gives precise control over the plot.\n",
        "\n",
        "On the other hand, Plotly is designed for interactive visualizations where users can zoom, hover, and pan directly in the chart. It is widely used in dashboards, presentations, and web applications because it produces dynamic, web-ready plots with less effort.\n",
        "\n",
        "For example, using Matplotlib:\n",
        "\n",
        "import matplotlib.pyplot as plt\n",
        "\n",
        "x = [1, 2, 3, 4, 5]\n",
        "\n",
        "y = [10, 20, 25, 30, 40]\n",
        "\n",
        "plt.plot(x, y, marker=\"o\")\n",
        "\n",
        "plt.title(\"Matplotlib Line Plot\")\n",
        "\n",
        "plt.xlabel(\"X-axis\")\n",
        "\n",
        "plt.ylabel(\"Y-axis\")\n",
        "\n",
        "plt.show()\n",
        "\n",
        "For example, using Plotly:\n",
        "\n",
        "import plotly.express as px\n",
        "\n",
        "x = [1, 2, 3, 4, 5]\n",
        "\n",
        "y = [10, 20, 25, 30, 40]\n",
        "\n",
        "fig = px.line(x=x, y=y, title=\"Plotly Line Plot\", markers=True)\n",
        "\n",
        "fig.show()\n"
      ],
      "metadata": {
        "id": "Ny49H9vZTYTN"
      }
    },
    {
      "cell_type": "markdown",
      "source": [
        "**Q10- What is the significance of hierarchical indexing in Pandas?**\n",
        "\n",
        "ANS- Hierarchical indexing (also called MultiIndex) in Pandas means having multiple levels of index labels on rows or columns.\n",
        "\n",
        "Instead of just a single index (like 0, 1, 2…), you can use two or more levels of indexing to represent data in a more structured way.\n",
        "\n",
        "**Significance:**\n",
        "\n",
        "Work with higher-dimensional data in 2D form\n",
        "\n",
        "Better data organization\n",
        "\n",
        "Easy slicing & subsetting\n",
        "\n",
        "Supports groupby and pivot operations\n",
        "\n",
        "EXAMPLE:\n",
        "\n",
        "import pandas as pd\n",
        "\n",
        "Create MultiIndex\n",
        "arrays = [\n",
        "\n",
        "    ['USA', 'USA', 'India', 'India'],\n",
        "    ['2023', '2024', '2023', '2024']\n",
        "]\n",
        "\n",
        "index = pd.MultiIndex.from_arrays(arrays, names=('Country', 'Year'))\n",
        "\n",
        "Create DataFrame\n",
        "\n",
        "df = pd.DataFrame({'Sales': [100, 120, 90, 110]}, index=index)\n",
        "\n",
        "print(df)\n"
      ],
      "metadata": {
        "id": "vTdCTGYxTYCo"
      }
    },
    {
      "cell_type": "markdown",
      "source": [
        "**Q11- What is the role of Seaborn’s pairplot() function?**\n",
        "\n",
        "ANS- **Role of pairplot() in Seaborn:**\n",
        "\n",
        "The pairplot() function is used to visualize pairwise relationships between multiple variables in a dataset.\n",
        "\n",
        "* It creates a grid of scatter plots for numerical features.\n",
        "\n",
        "* Diagonal plots usually show distributions (histogram/KDE) of each variable.\n",
        "\n",
        "*  You can use the hue parameter to color points by category, helping to identify class separation.\n",
        "\n",
        "EXAMPLE:\n",
        "\n",
        "import seaborn as sns\n",
        "\n",
        "import matplotlib.pyplot as plt\n",
        "\n",
        "Load built-in dataset\n",
        "\n",
        "iris = sns.load_dataset(\"iris\")\n",
        "\n",
        "Create pairplot\n",
        "\n",
        "sns.pairplot(iris, hue=\"species\", diag_kind=\"kde\")\n",
        "\n",
        "plt.show()\n",
        "\n",
        "\n",
        "\n",
        "\n",
        "\n"
      ],
      "metadata": {
        "id": "MtscEAu-TX_M"
      }
    },
    {
      "cell_type": "markdown",
      "source": [],
      "metadata": {
        "id": "L39L37VpXmep"
      }
    },
    {
      "cell_type": "markdown",
      "source": [
        "**Q12- What is the purpose of the describe() function in Pandas?**\n",
        "\n",
        "ANS-\n",
        "1. **Summarizes dataset quickly** → Gives an overview of numerical & categorical columns\n",
        "\n",
        "1. **For numeric data** → Provides count, mean, std, min, 25%, 50% (median), 75%, max.\n",
        "\n",
        "1. **For categorical data** → Provides count, number of unique values, most frequent value (top), and its frequency.\n",
        "\n",
        "2. **Helps in Exploratory Data Analysis (EDA)** → Detects data spread, central tendency, and outliers.  \n",
        "\n",
        "2. Works on both Series & DataFrame.\n",
        "\n",
        "2. **Customizable** → Can use include/exclude to control which data types are summarized.\n",
        "\n",
        "EXAMPLE:\n",
        "\n",
        "import pandas as pd\n",
        "\n",
        "data = {\n",
        "\n",
        "    \"Name\": [\"Alice\", \"Bob\", \"Charlie\", \"David\", \"Eva\"],\n",
        "    \"Age\": [25, 30, 35, 40, 28],\n",
        "    \"Salary\": [50000, 60000, 75000, 80000, 65000]\n",
        "}\n",
        "\n",
        "df = pd.DataFrame(data)\n",
        "\n",
        "print(df.describe())  # Numeric summary\n",
        "\n",
        "print(df.describe(include=['object']))  # Categorical summary\n"
      ],
      "metadata": {
        "id": "cYfQu78SXncF"
      }
    },
    {
      "cell_type": "markdown",
      "source": [
        "**Q13- Why is handling missing data important in Pandas?**\n",
        "\n",
        "ANS-\n",
        "\n",
        "1. **Accuracy of Analysis** → Missing values can lead to wrong averages, correlations, or model predictions\n",
        "\n",
        "1. **Avoid Errors** → Many Pandas functions and ML algorithms can fail if NaN values exist.\n",
        "\n",
        "1. **Data Integrity** → Ensures datasets are clean and reliable.\n",
        "\n",
        "2. **Better Insights** → Helps in making correct decisions from data.\n",
        "\n",
        "2. **Flexibility** → Pandas provides tools (dropna(), fillna(), interpolation) to either remove or replace missing data depending on context\n",
        "\n",
        "EXAMPLE:\n",
        "\n",
        "import pandas as pd\n",
        "\n",
        "data = {\n",
        "\n",
        "    \"Name\": [\"Alice\", \"Bob\", \"Charlie\", \"David\", \"Eva\"],\n",
        "    \"Age\": [25, None, 35, 40, None],\n",
        "    \"Salary\": [50000, 60000, None, 80000, 65000]\n",
        "}\n",
        "\n",
        "df = pd.DataFrame(data)\n",
        "\n",
        "print(\"Original DataFrame:\\n\", df)\n",
        "\n",
        "print(\"\\nMissing values count:\\n\", df.isnull().sum())\n",
        "\n",
        "df_filled = df.fillna({\"Age\": df[\"Age\"].mean(), \"Salary\": df[\"Salary\"].median()})\n",
        "\n",
        "print(\"\\nAfter Filling Missing Values:\\n\", df_filled)\n",
        "\n",
        "df_dropped = df.dropna()\n",
        "\n",
        "print(\"\\nAfter Dropping Missing Values:\\n\", df_dropped)\n",
        "\n",
        "\n",
        "\n",
        "\n",
        "\n",
        "\n"
      ],
      "metadata": {
        "id": "tdVF8gOHXnSQ"
      }
    },
    {
      "cell_type": "markdown",
      "source": [
        "**Q14- What are the benefits of using Plotly for data visualization?**\n",
        "\n",
        "ANS-\n",
        "\n",
        "1. **Interactive Visualizations:** Unlike Matplotlib, Plotly charts are interactive (zoom, pan, hover tooltips).\n",
        "\n",
        "1. **Web-Ready & Dashboards:** Supports simple plots (line, bar, scatter) and advanced ones (3D, maps, heatmaps, financial charts).\n",
        "\n",
        "1.  **Ease of Use:** High-level API (plotly.express) makes plotting simple with less code.\n",
        "\n",
        "1. **Customization:** Highly customizable layouts, colors, and annotations.\n",
        "2.  **Cross-Language Support:** Works not only in Python but also in R, Julia, and JavaScript.\n",
        "\n",
        "2. **Integration with Dash:** Can be used with Dash (a Plotly framework) to build full interactive dashboards without writing JavaScript.\n",
        "\n",
        "EXAMPLE:\n",
        "\n",
        "import plotly.express as px\n",
        "\n",
        "data = {\"Fruit\": [\"Apple\", \"Banana\", \"Orange\", \"Mango\"],\n",
        "\n",
        "        \"Quantity\": [10, 20, 15, 12]}\n",
        "\n",
        "fig = px.bar(data, x=\"Fruit\", y=\"Quantity\", title=\"Fruit Quantity\")\n",
        "\n",
        "fig.show()\n",
        "\n",
        "\n"
      ],
      "metadata": {
        "id": "9J6cgM9PXnOq"
      }
    },
    {
      "cell_type": "markdown",
      "source": [
        "**Q15- How does NumPy handle multidimensional arrays?**\n",
        "\n",
        "ANS- NumPy provides a special object called an ndarray (n-dimensional array) that can represent multidimensional data efficiently.\n",
        "\n",
        "1. **ndarray Structure:** Arrays can have any number of dimensions:\n",
        "\n",
        "       1D → Vector ([1,2,3])\n",
        "\n",
        "       2D → Matrix ([[1,2],[3,4]])\n",
        "\n",
        "       3D+ → Tensors (used in ML & deep learning).\n",
        "\n",
        "1. **Shape:** Each array has a .shape attribute that tells the size of each dimension.\n",
        "\n",
        "1.  **Indexing & Slicing:** Supports row-column indexing (arr[1, 2]) and slicing across dimensions.\n",
        "\n",
        "1. **Broadcasting:** Operations are applied element-wise, and NumPy can automatically expand smaller arrays to match dimensions.\n",
        "\n",
        "2. **Efficient Storage:** Stored in contiguous memory blocks → very fast compared to Python lists of lists.\n",
        "\n",
        "EXAMPLE:\n",
        "\n",
        "import numpy as np\n",
        "\n",
        "1D Array\n",
        "\n",
        "arr1 = np.array([1, 2, 3])\n",
        "\n",
        "print(\"1D:\", arr1, \"Shape:\", arr1.shape)\n",
        "\n",
        " 2D Array (Matrix)\n",
        "\n",
        "arr2 = np.array([[1, 2, 3], [4, 5, 6]])\n",
        "\n",
        "print(\"2D:\\n\", arr2, \"Shape:\", arr2.shape)\n",
        "\n",
        "3D Array (Tensor)\n",
        "\n",
        "arr3 = np.array([[[1, 2], [3, 4]], [[5, 6], [7, 8]]])\n",
        "\n",
        "print(\"3D:\\n\", arr3, \"Shape:\", arr3.shape)\n",
        "\n",
        "Accessing elements\n",
        "\n",
        "print(\"Element arr2[1,2]:\", arr2[1, 2])   # 6\n",
        "\n",
        "\n"
      ],
      "metadata": {
        "id": "1L-RuYolXnMA"
      }
    },
    {
      "cell_type": "markdown",
      "source": [
        "**Q16- What is the role of Bokeh in data visualization?**\n",
        "\n",
        "ANS- Bokeh is a Python library used for creating interactive, web-ready visualizations. Unlike static plots from Matplotlib, Bokeh plots are designed to be dynamic and interactive, making it ideal for dashboards, web applications, and exploratory data analysis.\n",
        "\n",
        "**ROLES**\n",
        "\n",
        "\n",
        "1. **Interactive Plots-** Users can zoom, pan, hover, and select data points.\n",
        "\n",
        "1. **Web Integration-** Generates plots as HTML/JavaScript, easily embedded in websites or apps.\n",
        "\n",
        "2.  **High-Level & Low-Level APIs-** Offers both quick plotting with bokeh.plotting.figure and detailed customization using bokeh.models.\n",
        "\n",
        "2. **Widgets & Dashboards-** Supports interactive widgets like sliders, dropdowns, and buttons to make interactive dashboards.\n",
        "\n",
        "EXAMPLE:\n",
        "\n",
        "from bokeh.plotting import figure, show\n",
        "\n",
        "from bokeh.io import output_notebook\n",
        "\n",
        "output_notebook()  # Display in Jupyter Notebook\n",
        "\n",
        "p = figure(title=\"Bokeh Interactive Line Plot\", x_axis_label='X',\n",
        "y_axis_label='Y')\n",
        "\n",
        "p.line([1, 2, 3, 4, 5], [6, 7, 2, 4, 5], line_width=2, color=\"green\", legend_label=\"Line 1\")\n",
        "\n",
        "show(p)\n",
        "\n",
        "\n"
      ],
      "metadata": {
        "id": "e-KqSFJEeafa"
      }
    },
    {
      "cell_type": "markdown",
      "source": [
        "**Q17- Explain the difference between apply() and map() in Pandas?**\n",
        "\n",
        "ANS- In Pandas, both map() and apply() are used to apply functions to data, but they differ in scope and flexibility. The map() function is primarily used on a Series to apply a function element-wise to each value, making it ideal for quick transformations.\n",
        "\n",
        "EXAMPLE:\n",
        "\n",
        "import pandas as pd\n",
        "\n",
        "s = pd.Series([1, 2, 3, 4])\n",
        "\n",
        "print(s.map(lambda x: x**2))\n",
        "\n",
        "On the other hand, apply() is more flexible and can be used on both Series and DataFrames. It can perform element-wise operations on a Series, or row-wise/column-wise operations on a DataFrame. For instance, summing rows in a DataFrame can be done using apply().\n",
        "\n",
        "EXAMPLE:\n",
        "\n",
        "df = pd.DataFrame({'A': [1, 2, 3], 'B': [4, 5, 6]})\n",
        "\n",
        "print(df.apply(lambda row: row.sum(), axis=1))\n",
        "\n"
      ],
      "metadata": {
        "id": "kWfnZAFqea98"
      }
    },
    {
      "cell_type": "markdown",
      "source": [
        "**Q18- What are some advanced features of NumPy?**\n",
        "\n",
        "ANS-\n",
        "1. **Multidimensional Arrays (ndarray):** Handles arrays of any dimension (2D matrices, 3D tensors, etc.) efficiently.\n",
        "\n",
        "1. **Vectorized Operations:** Apply mathematical operations on entire arrays without explicit loops → faster computation.\n",
        "\n",
        "1. **Broadcasting:** Automatically expands smaller arrays to match the shape of larger arrays for operations.\n",
        "\n",
        "1.  **Advanced Indexing & Slicing:** Boolean indexing, fancy indexing, and slicing for selecting or modifying data efficiently.\n",
        "\n",
        "2. **Linear Algebra Functions:** Includes dot(), inv(), eig(), svd() for matrix operations, eigenvalues, and decomposition.\n",
        "\n",
        "2.  **Masked Arrays:** Handle invalid or missing data in arrays using numpy.ma module.\n",
        "\n",
        "2. **Integration with C/C++ and Other Libraries:** Can interface with C/C++ code, SciPy, TensorFlow, and Pandas efficiently.\n",
        "\n",
        "EXAMPLE: import numpy as np\n",
        "\n",
        "A = np.array([[1, 2, 3], [4, 5, 6]])\n",
        "\n",
        "B = np.array([10, 20, 30])\n",
        "\n",
        "B is broadcasted to match A\n",
        "\n",
        "print(A + B)\n",
        "\n"
      ],
      "metadata": {
        "id": "ImHgSfPMebcM"
      }
    },
    {
      "cell_type": "markdown",
      "source": [
        "**Q19- What is the role of a pivot table in Pandas?**\n",
        "\n",
        "ANS- A pivot table in Pandas is used to summarize, organize, and aggregate data in a DataFrame. It allows you to transform long-form data into a more readable table by specifying: rows, columns, and the values to aggregate. Typically, you choose one column for the rows, another for the columns, and apply an aggregation function (like sum(), mean(), or count()) on the values. Pivot tables are especially useful for analyzing patterns, comparing groups, and generating reports quickly without manually grouping and calculating data.\n",
        "\n",
        "EXAMPLE:\n",
        "\n",
        "import pandas as pd\n",
        "\n",
        "data = {\n",
        "\n",
        "    \"Department\": [\"HR\", \"HR\", \"IT\", \"IT\", \"Finance\", \"Finance\"],\n",
        "    \"Employee\": [\"Alice\", \"Bob\", \"Charlie\", \"David\", \"Eve\", \"Frank\"],\n",
        "    \"Salary\": [50000, 60000, 70000, 80000, 75000, 90000]\n",
        "}\n",
        "\n",
        "df = pd.DataFrame(data)\n",
        "\n",
        "Pivot table: average salary per Department\n",
        "\n",
        "pivot = df.pivot_table(values=\"Salary\", index=\"Department\", aggfunc=\"mean\")\n",
        "\n",
        "print(pivot)\n"
      ],
      "metadata": {
        "id": "14CCrPfjebY8"
      }
    },
    {
      "cell_type": "markdown",
      "source": [
        "**Q20- What is the role of a pivot table in Pandas?**\n",
        "\n",
        "ANS- A pivot table in Pandas is used to summarize and analyze data efficiently by reorganizing it into a more readable table format. It allows you to specify which column(s) should be used as rows, which as columns, and which values to aggregate using functions like sum(), mean(), or count(). This makes it easy to calculate aggregates, compare groups, and identify patterns without manually grouping or looping through the data.\n",
        "\n",
        "EXAMPLE:\n",
        "\n",
        "import pandas as pd\n",
        "\n",
        "data = {\n",
        "\n",
        "    \"Department\": [\"HR\", \"HR\", \"IT\", \"IT\", \"Finance\", \"Finance\"],\n",
        "    \"Employee\": [\"Alice\", \"Bob\", \"Charlie\", \"David\", \"Eve\", \"Frank\"],\n",
        "    \"Salary\": [50000, 60000, 70000, 80000, 75000, 90000]\n",
        "}\n",
        "\n",
        "df = pd.DataFrame(data)\n",
        "\n",
        "pivot = df.pivot_table(values=\"Salary\", index=\"Department\", aggfunc=\"mean\")\n",
        "\n",
        "print(pivot)\n"
      ],
      "metadata": {
        "id": "uwSF_1WG4DW9"
      }
    },
    {
      "cell_type": "markdown",
      "source": [
        "**Q21-  Why is NumPy’s array slicing faster than Python’s list slicing**\n",
        "\n",
        "ANS- **Contiguous Memory Storage**\n",
        "       \n",
        "*   NumPy arrays (ndarray) are stored in contiguous blocks of memory, whereas Python lists store references to objects scattered in memory.\n",
        "*  This allows NumPy to access elements quickly without extra pointer dereferencing.\n",
        "\n",
        "**Vectorized Operations**\n",
        "\n",
        "*  NumPy performs slicing and other operations at the C level, using highly optimized low-level code.\n",
        "*  Python lists require interpreted loops, which are slower.\n",
        "\n",
        "**No Type Checking per Element**\n",
        "\n",
        "*  NumPy arrays have a fixed data type, so operations don’t need to check types for each element.\n",
        "*  NumPy arrays have a fixed data type, so operations don’t need to check types for each element.\n",
        "\n",
        "**No Type Checking per Element**\n",
        "\n",
        "*  NumPy arrays have a fixed data type, so operations don’t need to check types for each element.\n",
        "*   Python lists can hold different types, so each element must be checked at runtime, adding overhead.\n",
        "\n",
        "**Views Instead of Copies**\n",
        "\n",
        "*   NumPy slicing often returns a view of the original array, not a copy.\n",
        "*  This means less memory is used and operations are faster.\n",
        "\n",
        "EXAMPLE:\n",
        "\n",
        "import numpy as np\n",
        "\n",
        "import time\n",
        "\n",
        "arr = np.arange(1000000)\n",
        "\n",
        "lst = list(range(1000000))\n",
        "\n",
        "start = time.time()\n",
        "\n",
        "sub_arr = arr[100:1000000:10]\n",
        "\n",
        "end = time.time()\n",
        "\n",
        "print(\"NumPy slicing time:\", end - start)\n",
        "\n",
        "start = time.time()\n",
        "\n",
        "sub_lst = lst[100:1000000:10]\n",
        "\n",
        "end = time.time()\n",
        "\n",
        "print(\"Python list slicing time:\", end - start)\n",
        "\n",
        "\n",
        "\n",
        "\n",
        "\n",
        "\n",
        "\n",
        "\n"
      ],
      "metadata": {
        "id": "zeHIReWC4FLF"
      }
    },
    {
      "cell_type": "markdown",
      "source": [
        "**Q22- What are some common use cases for Seaborn?**\n",
        "\n",
        "ANS- Seaborn is a high-level Python visualization library built on Matplotlib, designed for statistical data visualization. Its common use cases include:\n",
        "\n",
        "\n",
        "1.   Visualizing Distributions\n",
        "\n",
        "1.  Comparing Categorical Data\n",
        "\n",
        "1.   Exploring Relationships Between Variables\n",
        "2.  Correlation Analysis\n",
        "\n",
        "\n",
        "2.   Time Series Visualization\n",
        "\n",
        "\n",
        "2.   Multivariate Analysis\n",
        "\n",
        "EXAMPLE:\n",
        "\n",
        "import seaborn as sns\n",
        "\n",
        "import matplotlib.pyplot as plt\n",
        "\n",
        "tips = sns.load_dataset(\"tips\")\n",
        "\n",
        "sns.boxplot(x=\"day\", y=\"total_bill\", data=tips)\n",
        "plt.show()\n",
        "\n",
        "\n"
      ],
      "metadata": {
        "id": "1C4ng6-j4FHs"
      }
    },
    {
      "cell_type": "markdown",
      "source": [
        "**PRACTICAL QUESTIONS**"
      ],
      "metadata": {
        "id": "B9dLNRVu4FEr"
      }
    },
    {
      "cell_type": "markdown",
      "source": [
        "**Q1- How do you create a 2D NumPy array and calculate the sum of each row?**"
      ],
      "metadata": {
        "id": "heo_KUuZ4E5O"
      }
    },
    {
      "cell_type": "code",
      "source": [
        "import numpy as np\n",
        "\n",
        "arr = np.array([[1, 2, 3], [4, 5, 6], [7, 8, 9]])\n",
        "row_sums = arr.sum(axis=1)\n",
        "print(\"Row sums:\", row_sums)\n"
      ],
      "metadata": {
        "colab": {
          "base_uri": "https://localhost:8080/"
        },
        "id": "eUuR5G1n9PkJ",
        "outputId": "65e1e18e-ac1c-4f02-a1ae-d8bc1bfb7e6a"
      },
      "execution_count": 1,
      "outputs": [
        {
          "output_type": "stream",
          "name": "stdout",
          "text": [
            "Row sums: [ 6 15 24]\n"
          ]
        }
      ]
    },
    {
      "cell_type": "markdown",
      "source": [
        "**Q2- Write a Pandas script to find the mean of a specific column in a DataFrame.**"
      ],
      "metadata": {
        "id": "6jontzdw4E1t"
      }
    },
    {
      "cell_type": "code",
      "execution_count": 2,
      "metadata": {
        "colab": {
          "base_uri": "https://localhost:8080/"
        },
        "id": "vnoM1f5YPGd_",
        "outputId": "29ab84b7-eb97-40d1-b3ff-8682087536fe"
      },
      "outputs": [
        {
          "output_type": "stream",
          "name": "stdout",
          "text": [
            "Mean of column A: 25.0\n"
          ]
        }
      ],
      "source": [
        "import pandas as pd\n",
        "\n",
        "df = pd.DataFrame({\n",
        "    \"A\": [10, 20, 30, 40],\n",
        "    \"B\": [5, 15, 25, 35]\n",
        "})\n",
        "\n",
        "mean_A = df[\"A\"].mean()\n",
        "print(\"Mean of column A:\", mean_A)\n"
      ]
    },
    {
      "cell_type": "markdown",
      "source": [
        "**Q3- Create a scatter plot using Matplotlib**"
      ],
      "metadata": {
        "id": "nVMm4b_K4Dbu"
      }
    },
    {
      "cell_type": "code",
      "source": [
        "import matplotlib.pyplot as plt\n",
        "\n",
        "x = [1, 2, 3, 4, 5]\n",
        "y = [5, 7, 9, 6, 8]\n",
        "\n",
        "plt.scatter(x, y, color='red')\n",
        "plt.title(\"Scatter Plot\")\n",
        "plt.xlabel(\"X-axis\")\n",
        "plt.ylabel(\"Y-axis\")\n",
        "plt.show()\n"
      ],
      "metadata": {
        "colab": {
          "base_uri": "https://localhost:8080/",
          "height": 472
        },
        "id": "TwUxulgj9qpY",
        "outputId": "ad292659-c230-4bf5-88e9-9358956056de"
      },
      "execution_count": 3,
      "outputs": [
        {
          "output_type": "display_data",
          "data": {
            "text/plain": [
              "<Figure size 640x480 with 1 Axes>"
            ],
            "image/png": "[encoded data removed]"
          },
          "metadata": {}
        }
      ]
    },
    {
      "cell_type": "markdown",
      "source": [
        "**Q4-  How do you calculate the correlation matrix using Seaborn and visualize it with a heatmap?**"
      ],
      "metadata": {
        "id": "un7Fpl2W94MX"
      }
    },
    {
      "cell_type": "code",
      "source": [
        "import seaborn as sns\n",
        "import matplotlib.pyplot as plt\n",
        "\n",
        "\n",
        "data = sns.load_dataset(\"iris\")\n",
        "numeric_data = data.select_dtypes(include='number')\n",
        "corr_matrix = numeric_data.corr()\n",
        "\n",
        "sns.heatmap(corr_matrix, annot=True, cmap=\"coolwarm\")\n",
        "plt.show()\n",
        "\n"
      ],
      "metadata": {
        "colab": {
          "base_uri": "https://localhost:8080/",
          "height": 435
        },
        "id": "ug-ymuh7-Atw",
        "outputId": "3a3f6855-c736-4068-fc91-b45c2823a828"
      },
      "execution_count": 8,
      "outputs": [
        {
          "output_type": "display_data",
          "data": {
            "text/plain": [
              "<Figure size 640x480 with 2 Axes>"
            ],
            "image/png": "[encoded data removed]"
          },
          "metadata": {}
        }
      ]
    },
    {
      "cell_type": "markdown",
      "source": [
        "**Q5- Generate a bar plot using Plotly.**"
      ],
      "metadata": {
        "id": "4K-4UpAi_-f3"
      }
    },
    {
      "cell_type": "code",
      "source": [
        "import plotly.express as px\n",
        "\n",
        "data = {\"Fruit\": [\"Apple\", \"Banana\", \"Orange\"], \"Quantity\": [10, 15, 7]}\n",
        "fig = px.bar(data, x=\"Fruit\", y=\"Quantity\", title=\"Fruit Quantity\")\n",
        "fig.show()\n"
      ],
      "metadata": {
        "colab": {
          "base_uri": "https://localhost:8080/",
          "height": 542
        },
        "id": "13-rs2gLAFqu",
        "outputId": "824c8249-9635-4bd8-c887-3ef47d4e0b19"
      },
      "execution_count": 9,
      "outputs": [
        {
          "output_type": "display_data",
          "data": {
            "text/html": [
              "<html>\n",
              "<head><meta charset=\"utf-8\" /></head>\n",
              "<body>\n",
              "    <div>            <script src=\"https://cdnjs.cloudflare.com/ajax/libs/mathjax/2.7.5/MathJax.js?config=TeX-AMS-MML_SVG\"></script><script type=\"text/javascript\">if (window.MathJax && window.MathJax.Hub && window.MathJax.Hub.Config) {window.MathJax.Hub.Config({SVG: {font: \"STIX-Web\"}});}</script>                <script type=\"text/javascript\">window.PlotlyConfig = {MathJaxConfig: 'local'};</script>\n",
              "        <script charset=\"utf-8\" src=\"https://cdn.plot.ly/plotly-2.35.2.min.js\"></script>                <div id=\"f361a6bf-3f30-4ec8-b636-a1f9217c545b\" class=\"plotly-graph-div\" style=\"height:525px; width:100%;\"></div>            <script type=\"text/javascript\">                                    window.PLOTLYENV=window.PLOTLYENV || {};                                    if (document.getElementById(\"f361a6bf-3f30-4ec8-b636-a1f9217c545b\")) {                    Plotly.newPlot(                        \"f361a6bf-3f30-4ec8-b636-a1f9217c545b\",                        [{\"alignmentgroup\":\"True\",\"hovertemplate\":\"Fruit=%{x}\\u003cbr\\u003eQuantity=%{y}\\u003cextra\\u003e\\u003c\\u002fextra\\u003e\",\"legendgroup\":\"\",\"marker\":{\"color\":\"#636efa\",\"pattern\":{\"shape\":\"\"}},\"name\":\"\",\"offsetgroup\":\"\",\"orientation\":\"v\",\"showlegend\":false,\"textposition\":\"auto\",\"x\":[\"Apple\",\"Banana\",\"Orange\"],\"xaxis\":\"x\",\"y\":[10,15,7],\"yaxis\":\"y\",\"type\":\"bar\"}],                        {\"template\":{\"data\":{\"histogram2dcontour\":[{\"type\":\"histogram2dcontour\",\"colorbar\":{\"outlinewidth\":0,\"ticks\":\"\"},\"colorscale\":[[0.0,\"#0d0887\"],[0.1111111111111111,\"#46039f\"],[0.2222222222222222,\"#7201a8\"],[0.3333333333333333,\"#9c179e\"],[0.4444444444444444,\"#bd3786\"],[0.5555555555555556,\"#d8576b\"],[0.6666666666666666,\"#ed7953\"],[0.7777777777777778,\"#fb9f3a\"],[0.8888888888888888,\"#fdca26\"],[1.0,\"#f0f921\"]]}],\"choropleth\":[{\"type\":\"choropleth\",\"colorbar\":{\"outlinewidth\":0,\"ticks\":\"\"}}],\"histogram2d\":[{\"type\":\"histogram2d\",\"colorbar\":{\"outlinewidth\":0,\"ticks\":\"\"},\"colorscale\":[[0.0,\"#0d0887\"],[0.1111111111111111,\"#46039f\"],[0.2222222222222222,\"#7201a8\"],[0.3333333333333333,\"#9c179e\"],[0.4444444444444444,\"#bd3786\"],[0.5555555555555556,\"#d8576b\"],[0.6666666666666666,\"#ed7953\"],[0.7777777777777778,\"#fb9f3a\"],[0.8888888888888888,\"#fdca26\"],[1.0,\"#f0f921\"]]}],\"heatmap\":[{\"type\":\"heatmap\",\"colorbar\":{\"outlinewidth\":0,\"ticks\":\"\"},\"colorscale\":[[0.0,\"#0d0887\"],[0.1111111111111111,\"#46039f\"],[0.2222222222222222,\"#7201a8\"],[0.3333333333333333,\"#9c179e\"],[0.4444444444444444,\"#bd3786\"],[0.5555555555555556,\"#d8576b\"],[0.6666666666666666,\"#ed7953\"],[0.7777777777777778,\"#fb9f3a\"],[0.8888888888888888,\"#fdca26\"],[1.0,\"#f0f921\"]]}],\"heatmapgl\":[{\"type\":\"heatmapgl\",\"colorbar\":{\"outlinewidth\":0,\"ticks\":\"\"},\"colorscale\":[[0.0,\"#0d0887\"],[0.1111111111111111,\"#46039f\"],[0.2222222222222222,\"#7201a8\"],[0.3333333333333333,\"#9c179e\"],[0.4444444444444444,\"#bd3786\"],[0.5555555555555556,\"#d8576b\"],[0.6666666666666666,\"#ed7953\"],[0.7777777777777778,\"#fb9f3a\"],[0.8888888888888888,\"#fdca26\"],[1.0,\"#f0f921\"]]}],\"contourcarpet\":[{\"type\":\"contourcarpet\",\"colorbar\":{\"outlinewidth\":0,\"ticks\":\"\"}}],\"contour\":[{\"type\":\"contour\",\"colorbar\":{\"outlinewidth\":0,\"ticks\":\"\"},\"colorscale\":[[0.0,\"#0d0887\"],[0.1111111111111111,\"#46039f\"],[0.2222222222222222,\"#7201a8\"],[0.3333333333333333,\"#9c179e\"],[0.4444444444444444,\"#bd3786\"],[0.5555555555555556,\"#d8576b\"],[0.6666666666666666,\"#ed7953\"],[0.7777777777777778,\"#fb9f3a\"],[0.8888888888888888,\"#fdca26\"],[1.0,\"#f0f921\"]]}],\"surface\":[{\"type\":\"surface\",\"colorbar\":{\"outlinewidth\":0,\"ticks\":\"\"},\"colorscale\":[[0.0,\"#0d0887\"],[0.1111111111111111,\"#46039f\"],[0.2222222222222222,\"#7201a8\"],[0.3333333333333333,\"#9c179e\"],[0.4444444444444444,\"#bd3786\"],[0.5555555555555556,\"#d8576b\"],[0.6666666666666666,\"#ed7953\"],[0.7777777777777778,\"#fb9f3a\"],[0.8888888888888888,\"#fdca26\"],[1.0,\"#f0f921\"]]}],\"mesh3d\":[{\"type\":\"mesh3d\",\"colorbar\":{\"outlinewidth\":0,\"ticks\":\"\"}}],\"scatter\":[{\"fillpattern\":{\"fillmode\":\"overlay\",\"size\":10,\"solidity\":0.2},\"type\":\"scatter\"}],\"parcoords\":[{\"type\":\"parcoords\",\"line\":{\"colorbar\":{\"outlinewidth\":0,\"ticks\":\"\"}}}],\"scatterpolargl\":[{\"type\":\"scatterpolargl\",\"marker\":{\"colorbar\":{\"outlinewidth\":0,\"ticks\":\"\"}}}],\"bar\":[{\"error_x\":{\"color\":\"#2a3f5f\"},\"error_y\":{\"color\":\"#2a3f5f\"},\"marker\":{\"line\":{\"color\":\"#E5ECF6\",\"width\":0.5},\"pattern\":{\"fillmode\":\"overlay\",\"size\":10,\"solidity\":0.2}},\"type\":\"bar\"}],\"scattergeo\":[{\"type\":\"scattergeo\",\"marker\":{\"colorbar\":{\"outlinewidth\":0,\"ticks\":\"\"}}}],\"scatterpolar\":[{\"type\":\"scatterpolar\",\"marker\":{\"colorbar\":{\"outlinewidth\":0,\"ticks\":\"\"}}}],\"histogram\":[{\"marker\":{\"pattern\":{\"fillmode\":\"overlay\",\"size\":10,\"solidity\":0.2}},\"type\":\"histogram\"}],\"scattergl\":[{\"type\":\"scattergl\",\"marker\":{\"colorbar\":{\"outlinewidth\":0,\"ticks\":\"\"}}}],\"scatter3d\":[{\"type\":\"scatter3d\",\"line\":{\"colorbar\":{\"outlinewidth\":0,\"ticks\":\"\"}},\"marker\":{\"colorbar\":{\"outlinewidth\":0,\"ticks\":\"\"}}}],\"scattermapbox\":[{\"type\":\"scattermapbox\",\"marker\":{\"colorbar\":{\"outlinewidth\":0,\"ticks\":\"\"}}}],\"scatterternary\":[{\"type\":\"scatterternary\",\"marker\":{\"colorbar\":{\"outlinewidth\":0,\"ticks\":\"\"}}}],\"scattercarpet\":[{\"type\":\"scattercarpet\",\"marker\":{\"colorbar\":{\"outlinewidth\":0,\"ticks\":\"\"}}}],\"carpet\":[{\"aaxis\":{\"endlinecolor\":\"#2a3f5f\",\"gridcolor\":\"white\",\"linecolor\":\"white\",\"minorgridcolor\":\"white\",\"startlinecolor\":\"#2a3f5f\"},\"baxis\":{\"endlinecolor\":\"#2a3f5f\",\"gridcolor\":\"white\",\"linecolor\":\"white\",\"minorgridcolor\":\"white\",\"startlinecolor\":\"#2a3f5f\"},\"type\":\"carpet\"}],\"table\":[{\"cells\":{\"fill\":{\"color\":\"#EBF0F8\"},\"line\":{\"color\":\"white\"}},\"header\":{\"fill\":{\"color\":\"#C8D4E3\"},\"line\":{\"color\":\"white\"}},\"type\":\"table\"}],\"barpolar\":[{\"marker\":{\"line\":{\"color\":\"#E5ECF6\",\"width\":0.5},\"pattern\":{\"fillmode\":\"overlay\",\"size\":10,\"solidity\":0.2}},\"type\":\"barpolar\"}],\"pie\":[{\"automargin\":true,\"type\":\"pie\"}]},\"layout\":{\"autotypenumbers\":\"strict\",\"colorway\":[\"#636efa\",\"#EF553B\",\"#00cc96\",\"#ab63fa\",\"#FFA15A\",\"#19d3f3\",\"#FF6692\",\"#B6E880\",\"#FF97FF\",\"#FECB52\"],\"font\":{\"color\":\"#2a3f5f\"},\"hovermode\":\"closest\",\"hoverlabel\":{\"align\":\"left\"},\"paper_bgcolor\":\"white\",\"plot_bgcolor\":\"#E5ECF6\",\"polar\":{\"bgcolor\":\"#E5ECF6\",\"angularaxis\":{\"gridcolor\":\"white\",\"linecolor\":\"white\",\"ticks\":\"\"},\"radialaxis\":{\"gridcolor\":\"white\",\"linecolor\":\"white\",\"ticks\":\"\"}},\"ternary\":{\"bgcolor\":\"#E5ECF6\",\"aaxis\":{\"gridcolor\":\"white\",\"linecolor\":\"white\",\"ticks\":\"\"},\"baxis\":{\"gridcolor\":\"white\",\"linecolor\":\"white\",\"ticks\":\"\"},\"caxis\":{\"gridcolor\":\"white\",\"linecolor\":\"white\",\"ticks\":\"\"}},\"coloraxis\":{\"colorbar\":{\"outlinewidth\":0,\"ticks\":\"\"}},\"colorscale\":{\"sequential\":[[0.0,\"#0d0887\"],[0.1111111111111111,\"#46039f\"],[0.2222222222222222,\"#7201a8\"],[0.3333333333333333,\"#9c179e\"],[0.4444444444444444,\"#bd3786\"],[0.5555555555555556,\"#d8576b\"],[0.6666666666666666,\"#ed7953\"],[0.7777777777777778,\"#fb9f3a\"],[0.8888888888888888,\"#fdca26\"],[1.0,\"#f0f921\"]],\"sequentialminus\":[[0.0,\"#0d0887\"],[0.1111111111111111,\"#46039f\"],[0.2222222222222222,\"#7201a8\"],[0.3333333333333333,\"#9c179e\"],[0.4444444444444444,\"#bd3786\"],[0.5555555555555556,\"#d8576b\"],[0.6666666666666666,\"#ed7953\"],[0.7777777777777778,\"#fb9f3a\"],[0.8888888888888888,\"#fdca26\"],[1.0,\"#f0f921\"]],\"diverging\":[[0,\"#8e0152\"],[0.1,\"#c51b7d\"],[0.2,\"#de77ae\"],[0.3,\"#f1b6da\"],[0.4,\"#fde0ef\"],[0.5,\"#f7f7f7\"],[0.6,\"#e6f5d0\"],[0.7,\"#b8e186\"],[0.8,\"#7fbc41\"],[0.9,\"#4d9221\"],[1,\"#276419\"]]},\"xaxis\":{\"gridcolor\":\"white\",\"linecolor\":\"white\",\"ticks\":\"\",\"title\":{\"standoff\":15},\"zerolinecolor\":\"white\",\"automargin\":true,\"zerolinewidth\":2},\"yaxis\":{\"gridcolor\":\"white\",\"linecolor\":\"white\",\"ticks\":\"\",\"title\":{\"standoff\":15},\"zerolinecolor\":\"white\",\"automargin\":true,\"zerolinewidth\":2},\"scene\":{\"xaxis\":{\"backgroundcolor\":\"#E5ECF6\",\"gridcolor\":\"white\",\"linecolor\":\"white\",\"showbackground\":true,\"ticks\":\"\",\"zerolinecolor\":\"white\",\"gridwidth\":2},\"yaxis\":{\"backgroundcolor\":\"#E5ECF6\",\"gridcolor\":\"white\",\"linecolor\":\"white\",\"showbackground\":true,\"ticks\":\"\",\"zerolinecolor\":\"white\",\"gridwidth\":2},\"zaxis\":{\"backgroundcolor\":\"#E5ECF6\",\"gridcolor\":\"white\",\"linecolor\":\"white\",\"showbackground\":true,\"ticks\":\"\",\"zerolinecolor\":\"white\",\"gridwidth\":2}},\"shapedefaults\":{\"line\":{\"color\":\"#2a3f5f\"}},\"annotationdefaults\":{\"arrowcolor\":\"#2a3f5f\",\"arrowhead\":0,\"arrowwidth\":1},\"geo\":{\"bgcolor\":\"white\",\"landcolor\":\"#E5ECF6\",\"subunitcolor\":\"white\",\"showland\":true,\"showlakes\":true,\"lakecolor\":\"white\"},\"title\":{\"x\":0.05},\"mapbox\":{\"style\":\"light\"}}},\"xaxis\":{\"anchor\":\"y\",\"domain\":[0.0,1.0],\"title\":{\"text\":\"Fruit\"}},\"yaxis\":{\"anchor\":\"x\",\"domain\":[0.0,1.0],\"title\":{\"text\":\"Quantity\"}},\"legend\":{\"tracegroupgap\":0},\"title\":{\"text\":\"Fruit Quantity\"},\"barmode\":\"relative\"},                        {\"responsive\": true}                    ).then(function(){\n",
              "                            \n",
              "var gd = document.getElementById('f361a6bf-3f30-4ec8-b636-a1f9217c545b');\n",
              "var x = new MutationObserver(function (mutations, observer) {{\n",
              "        var display = window.getComputedStyle(gd).display;\n",
              "        if (!display || display === 'none') {{\n",
              "            console.log([gd, 'removed!']);\n",
              "            Plotly.purge(gd);\n",
              "            observer.disconnect();\n",
              "        }}\n",
              "}});\n",
              "\n",
              "// Listen for the removal of the full notebook cells\n",
              "var notebookContainer = gd.closest('#notebook-container');\n",
              "if (notebookContainer) {{\n",
              "    x.observe(notebookContainer, {childList: true});\n",
              "}}\n",
              "\n",
              "// Listen for the clearing of the current output cell\n",
              "var outputEl = gd.closest('.output');\n",
              "if (outputEl) {{\n",
              "    x.observe(outputEl, {childList: true});\n",
              "}}\n",
              "\n",
              "                        })                };                            </script>        </div>\n",
              "</body>\n",
              "</html>"
            ]
          },
          "metadata": {}
        }
      ]
    },
    {
      "cell_type": "markdown",
      "source": [
        "**Q6- Create a DataFrame and add a new column based on an existing column.**"
      ],
      "metadata": {
        "id": "Vhs2xxOiAUs3"
      }
    },
    {
      "cell_type": "code",
      "source": [
        "df = pd.DataFrame({\"Price\": [100, 200, 300]})\n",
        "df[\"Discounted_Price\"] = df[\"Price\"] * 0.9\n",
        "print(df)\n"
      ],
      "metadata": {
        "colab": {
          "base_uri": "https://localhost:8080/"
        },
        "id": "_WdWxhqGAJBC",
        "outputId": "b81ad43f-8c21-4200-afd4-8e50fd4cf811"
      },
      "execution_count": 10,
      "outputs": [
        {
          "output_type": "stream",
          "name": "stdout",
          "text": [
            "   Price  Discounted_Price\n",
            "0    100              90.0\n",
            "1    200             180.0\n",
            "2    300             270.0\n"
          ]
        }
      ]
    },
    {
      "cell_type": "markdown",
      "source": [
        "**Q7-  Write a program to perform element-wise multiplication of two NumPy arrays.**"
      ],
      "metadata": {
        "id": "BBeNFkKjAe0_"
      }
    },
    {
      "cell_type": "code",
      "source": [
        "a = np.array([1, 2, 3])\n",
        "b = np.array([4, 5, 6])\n",
        "result = a * b\n",
        "print(result)\n"
      ],
      "metadata": {
        "colab": {
          "base_uri": "https://localhost:8080/"
        },
        "id": "PUX9gb-wAlIA",
        "outputId": "80ec8a40-a4b2-4fec-986a-d1f30a24b2be"
      },
      "execution_count": 11,
      "outputs": [
        {
          "output_type": "stream",
          "name": "stdout",
          "text": [
            "[ 4 10 18]\n"
          ]
        }
      ]
    },
    {
      "cell_type": "markdown",
      "source": [
        "**Q8- Create a line plot with multiple lines using Matplotli.**"
      ],
      "metadata": {
        "id": "xRIRqLWcAt_X"
      }
    },
    {
      "cell_type": "code",
      "source": [
        "x = [1, 2, 3, 4, 5]\n",
        "y1 = [2, 4, 6, 8, 10]\n",
        "y2 = [1, 3, 5, 7, 9]\n",
        "\n",
        "plt.plot(x, y1, label=\"Line 1\")\n",
        "plt.plot(x, y2, label=\"Line 2\")\n",
        "plt.title(\"Multiple Lines Plot\")\n",
        "plt.xlabel(\"X-axis\")\n",
        "plt.ylabel(\"Y-axis\")\n",
        "plt.legend()\n",
        "plt.show()\n"
      ],
      "metadata": {
        "colab": {
          "base_uri": "https://localhost:8080/",
          "height": 472
        },
        "id": "k2vvH-RoAI9d",
        "outputId": "de818ed9-1355-4ddd-b1f0-1b3716a92954"
      },
      "execution_count": 12,
      "outputs": [
        {
          "output_type": "display_data",
          "data": {
            "text/plain": [
              "<Figure size 640x480 with 1 Axes>"
            ],
            "image/png": "[encoded data removed]"
          },
          "metadata": {}
        }
      ]
    },
    {
      "cell_type": "markdown",
      "source": [
        "**Q9- Generate a Pandas DataFrame and filter rows where a column value is greater than a threshold.**"
      ],
      "metadata": {
        "id": "ZtDRUlfYA4EH"
      }
    },
    {
      "cell_type": "code",
      "source": [
        "df = pd.DataFrame({\"A\": [10, 20, 30, 40], \"B\": [5, 15, 25, 35]})\n",
        "filtered_df = df[df[\"A\"] > 20]\n",
        "print(filtered_df)\n"
      ],
      "metadata": {
        "colab": {
          "base_uri": "https://localhost:8080/"
        },
        "id": "aatacVkVAI6t",
        "outputId": "a9e430f2-6797-47f1-8cd5-644ac254277a"
      },
      "execution_count": 13,
      "outputs": [
        {
          "output_type": "stream",
          "name": "stdout",
          "text": [
            "    A   B\n",
            "2  30  25\n",
            "3  40  35\n"
          ]
        }
      ]
    },
    {
      "cell_type": "markdown",
      "source": [
        "**Q10- Create a histogram using Seaborn to visualize a distribution.**"
      ],
      "metadata": {
        "id": "82zxptpRBBnD"
      }
    },
    {
      "cell_type": "code",
      "source": [
        "sns.histplot(data=df, x=\"A\", bins=4, kde=True)\n",
        "plt.show()\n"
      ],
      "metadata": {
        "colab": {
          "base_uri": "https://localhost:8080/",
          "height": 449
        },
        "id": "WI1qN28hBKoG",
        "outputId": "b7601e75-a347-427f-dc8b-a7467e23955d"
      },
      "execution_count": 14,
      "outputs": [
        {
          "output_type": "display_data",
          "data": {
            "text/plain": [
              "<Figure size 640x480 with 1 Axes>"
            ],
            "image/png": "[encoded data removed]"
          },
          "metadata": {}
        }
      ]
    },
    {
      "cell_type": "markdown",
      "source": [
        "**Q11- Perform matrix multiplication using NumPy.**"
      ],
      "metadata": {
        "id": "E_wOp7PYBMBt"
      }
    },
    {
      "cell_type": "code",
      "source": [
        "A = np.array([[1, 2], [3, 4]])\n",
        "B = np.array([[5, 6], [7, 8]])\n",
        "C = np.dot(A, B)\n",
        "print(C)\n"
      ],
      "metadata": {
        "colab": {
          "base_uri": "https://localhost:8080/"
        },
        "id": "2YBzWEIIBTE5",
        "outputId": "e9a01bc1-ca40-41af-e4a4-87577b046a01"
      },
      "execution_count": 15,
      "outputs": [
        {
          "output_type": "stream",
          "name": "stdout",
          "text": [
            "[[19 22]\n",
            " [43 50]]\n"
          ]
        }
      ]
    },
    {
      "cell_type": "markdown",
      "source": [
        "**Q12- Use Pandas to load a CSV file and display its first 5 rows.**"
      ],
      "metadata": {
        "id": "pMujz3D0BWVS"
      }
    },
    {
      "cell_type": "code",
      "source": [
        "import pandas as pd\n",
        "import os\n",
        "\n",
        "print(\"Available files:\", os.listdir())\n",
        "\n",
        "df = pd.read_csv(\"sample_data/california_housing_train.csv\")\n",
        "print(df.head())\n"
      ],
      "metadata": {
        "colab": {
          "base_uri": "https://localhost:8080/"
        },
        "id": "mC9JoH48BcJZ",
        "outputId": "554866af-ccc4-47d8-9ae0-8ff8d86d80fe"
      },
      "execution_count": 22,
      "outputs": [
        {
          "output_type": "stream",
          "name": "stdout",
          "text": [
            "Available files: ['.config', 'sample_data']\n",
            "   longitude  latitude  housing_median_age  total_rooms  total_bedrooms  \\\n",
            "0    -114.31     34.19                15.0       5612.0          1283.0   \n",
            "1    -114.47     34.40                19.0       7650.0          1901.0   \n",
            "2    -114.56     33.69                17.0        720.0           174.0   \n",
            "3    -114.57     33.64                14.0       1501.0           337.0   \n",
            "4    -114.57     33.57                20.0       1454.0           326.0   \n",
            "\n",
            "   population  households  median_income  median_house_value  \n",
            "0      1015.0       472.0         1.4936             66900.0  \n",
            "1      1129.0       463.0         1.8200             80100.0  \n",
            "2       333.0       117.0         1.6509             85700.0  \n",
            "3       515.0       226.0         3.1917             73400.0  \n",
            "4       624.0       262.0         1.9250             65500.0  \n"
          ]
        }
      ]
    },
    {
      "cell_type": "markdown",
      "source": [
        "**Q13- Create a 3D scatter plot using Plotly?**"
      ],
      "metadata": {
        "id": "oLmPDsMcG0KC"
      }
    },
    {
      "cell_type": "code",
      "source": [
        "import plotly.express as px\n",
        "\n",
        "df = px.data.iris()  # Sample dataset\n",
        "fig = px.scatter_3d(df, x='sepal_length', y='sepal_width', z='petal_length',\n",
        "                    color='species', size='petal_width')\n",
        "fig.show()\n"
      ],
      "metadata": {
        "colab": {
          "base_uri": "https://localhost:8080/",
          "height": 542
        },
        "id": "remtCFvcG9-s",
        "outputId": "f39ef19e-53c0-42c2-8722-83d89a89ce4d"
      },
      "execution_count": 23,
      "outputs": [
        {
          "output_type": "display_data",
          "data": {
            "text/html": [
              "<html>\n",
              "<head><meta charset=\"utf-8\" /></head>\n",
              "<body>\n",
              "    <div>            <script src=\"https://cdnjs.cloudflare.com/ajax/libs/mathjax/2.7.5/MathJax.js?config=TeX-AMS-MML_SVG\"></script><script type=\"text/javascript\">if (window.MathJax && window.MathJax.Hub && window.MathJax.Hub.Config) {window.MathJax.Hub.Config({SVG: {font: \"STIX-Web\"}});}</script>                <script type=\"text/javascript\">window.PlotlyConfig = {MathJaxConfig: 'local'};</script>\n",
              "        <script charset=\"utf-8\" src=\"https://cdn.plot.ly/plotly-2.35.2.min.js\"></script>                <div id=\"0afd0fa8-b5e2-4656-b9da-4b2f21540262\" class=\"plotly-graph-div\" style=\"height:525px; width:100%;\"></div>            <script type=\"text/javascript\">                                    window.PLOTLYENV=window.PLOTLYENV || {};                                    if (document.getElementById(\"0afd0fa8-b5e2-4656-b9da-4b2f21540262\")) {                    Plotly.newPlot(                        \"0afd0fa8-b5e2-4656-b9da-4b2f21540262\",                        [{\"hovertemplate\":\"species=setosa\\u003cbr\\u003esepal_length=%{x}\\u003cbr\\u003esepal_width=%{y}\\u003cbr\\u003epetal_length=%{z}\\u003cbr\\u003epetal_width=%{marker.size}\\u003cextra\\u003e\\u003c\\u002fextra\\u003e\",\"legendgroup\":\"setosa\",\"marker\":{\"color\":\"#636efa\",\"size\":[0.2,0.2,0.2,0.2,0.2,0.4,0.3,0.2,0.2,0.1,0.2,0.2,0.1,0.1,0.2,0.4,0.4,0.3,0.3,0.3,0.2,0.4,0.2,0.5,0.2,0.2,0.4,0.2,0.2,0.2,0.2,0.4,0.1,0.2,0.1,0.2,0.2,0.1,0.2,0.2,0.3,0.3,0.2,0.6,0.4,0.3,0.2,0.2,0.2,0.2],\"sizemode\":\"area\",\"sizeref\":0.00625,\"symbol\":\"circle\"},\"mode\":\"markers\",\"name\":\"setosa\",\"scene\":\"scene\",\"showlegend\":true,\"x\":[5.1,4.9,4.7,4.6,5.0,5.4,4.6,5.0,4.4,4.9,5.4,4.8,4.8,4.3,5.8,5.7,5.4,5.1,5.7,5.1,5.4,5.1,4.6,5.1,4.8,5.0,5.0,5.2,5.2,4.7,4.8,5.4,5.2,5.5,4.9,5.0,5.5,4.9,4.4,5.1,5.0,4.5,4.4,5.0,5.1,4.8,5.1,4.6,5.3,5.0],\"y\":[3.5,3.0,3.2,3.1,3.6,3.9,3.4,3.4,2.9,3.1,3.7,3.4,3.0,3.0,4.0,4.4,3.9,3.5,3.8,3.8,3.4,3.7,3.6,3.3,3.4,3.0,3.4,3.5,3.4,3.2,3.1,3.4,4.1,4.2,3.1,3.2,3.5,3.1,3.0,3.4,3.5,2.3,3.2,3.5,3.8,3.0,3.8,3.2,3.7,3.3],\"z\":[1.4,1.4,1.3,1.5,1.4,1.7,1.4,1.5,1.4,1.5,1.5,1.6,1.4,1.1,1.2,1.5,1.3,1.4,1.7,1.5,1.7,1.5,1.0,1.7,1.9,1.6,1.6,1.5,1.4,1.6,1.6,1.5,1.5,1.4,1.5,1.2,1.3,1.5,1.3,1.5,1.3,1.3,1.3,1.6,1.9,1.4,1.6,1.4,1.5,1.4],\"type\":\"scatter3d\"},{\"hovertemplate\":\"species=versicolor\\u003cbr\\u003esepal_length=%{x}\\u003cbr\\u003esepal_width=%{y}\\u003cbr\\u003epetal_length=%{z}\\u003cbr\\u003epetal_width=%{marker.size}\\u003cextra\\u003e\\u003c\\u002fextra\\u003e\",\"legendgroup\":\"versicolor\",\"marker\":{\"color\":\"#EF553B\",\"size\":[1.4,1.5,1.5,1.3,1.5,1.3,1.6,1.0,1.3,1.4,1.0,1.5,1.0,1.4,1.3,1.4,1.5,1.0,1.5,1.1,1.8,1.3,1.5,1.2,1.3,1.4,1.4,1.7,1.5,1.0,1.1,1.0,1.2,1.6,1.5,1.6,1.5,1.3,1.3,1.3,1.2,1.4,1.2,1.0,1.3,1.2,1.3,1.3,1.1,1.3],\"sizemode\":\"area\",\"sizeref\":0.00625,\"symbol\":\"circle\"},\"mode\":\"markers\",\"name\":\"versicolor\",\"scene\":\"scene\",\"showlegend\":true,\"x\":[7.0,6.4,6.9,5.5,6.5,5.7,6.3,4.9,6.6,5.2,5.0,5.9,6.0,6.1,5.6,6.7,5.6,5.8,6.2,5.6,5.9,6.1,6.3,6.1,6.4,6.6,6.8,6.7,6.0,5.7,5.5,5.5,5.8,6.0,5.4,6.0,6.7,6.3,5.6,5.5,5.5,6.1,5.8,5.0,5.6,5.7,5.7,6.2,5.1,5.7],\"y\":[3.2,3.2,3.1,2.3,2.8,2.8,3.3,2.4,2.9,2.7,2.0,3.0,2.2,2.9,2.9,3.1,3.0,2.7,2.2,2.5,3.2,2.8,2.5,2.8,2.9,3.0,2.8,3.0,2.9,2.6,2.4,2.4,2.7,2.7,3.0,3.4,3.1,2.3,3.0,2.5,2.6,3.0,2.6,2.3,2.7,3.0,2.9,2.9,2.5,2.8],\"z\":[4.7,4.5,4.9,4.0,4.6,4.5,4.7,3.3,4.6,3.9,3.5,4.2,4.0,4.7,3.6,4.4,4.5,4.1,4.5,3.9,4.8,4.0,4.9,4.7,4.3,4.4,4.8,5.0,4.5,3.5,3.8,3.7,3.9,5.1,4.5,4.5,4.7,4.4,4.1,4.0,4.4,4.6,4.0,3.3,4.2,4.2,4.2,4.3,3.0,4.1],\"type\":\"scatter3d\"},{\"hovertemplate\":\"species=virginica\\u003cbr\\u003esepal_length=%{x}\\u003cbr\\u003esepal_width=%{y}\\u003cbr\\u003epetal_length=%{z}\\u003cbr\\u003epetal_width=%{marker.size}\\u003cextra\\u003e\\u003c\\u002fextra\\u003e\",\"legendgroup\":\"virginica\",\"marker\":{\"color\":\"#00cc96\",\"size\":[2.5,1.9,2.1,1.8,2.2,2.1,1.7,1.8,1.8,2.5,2.0,1.9,2.1,2.0,2.4,2.3,1.8,2.2,2.3,1.5,2.3,2.0,2.0,1.8,2.1,1.8,1.8,1.8,2.1,1.6,1.9,2.0,2.2,1.5,1.4,2.3,2.4,1.8,1.8,2.1,2.4,2.3,1.9,2.3,2.5,2.3,1.9,2.0,2.3,1.8],\"sizemode\":\"area\",\"sizeref\":0.00625,\"symbol\":\"circle\"},\"mode\":\"markers\",\"name\":\"virginica\",\"scene\":\"scene\",\"showlegend\":true,\"x\":[6.3,5.8,7.1,6.3,6.5,7.6,4.9,7.3,6.7,7.2,6.5,6.4,6.8,5.7,5.8,6.4,6.5,7.7,7.7,6.0,6.9,5.6,7.7,6.3,6.7,7.2,6.2,6.1,6.4,7.2,7.4,7.9,6.4,6.3,6.1,7.7,6.3,6.4,6.0,6.9,6.7,6.9,5.8,6.8,6.7,6.7,6.3,6.5,6.2,5.9],\"y\":[3.3,2.7,3.0,2.9,3.0,3.0,2.5,2.9,2.5,3.6,3.2,2.7,3.0,2.5,2.8,3.2,3.0,3.8,2.6,2.2,3.2,2.8,2.8,2.7,3.3,3.2,2.8,3.0,2.8,3.0,2.8,3.8,2.8,2.8,2.6,3.0,3.4,3.1,3.0,3.1,3.1,3.1,2.7,3.2,3.3,3.0,2.5,3.0,3.4,3.0],\"z\":[6.0,5.1,5.9,5.6,5.8,6.6,4.5,6.3,5.8,6.1,5.1,5.3,5.5,5.0,5.1,5.3,5.5,6.7,6.9,5.0,5.7,4.9,6.7,4.9,5.7,6.0,4.8,4.9,5.6,5.8,6.1,6.4,5.6,5.1,5.6,6.1,5.6,5.5,4.8,5.4,5.6,5.1,5.1,5.9,5.7,5.2,5.0,5.2,5.4,5.1],\"type\":\"scatter3d\"}],                        {\"template\":{\"data\":{\"histogram2dcontour\":[{\"type\":\"histogram2dcontour\",\"colorbar\":{\"outlinewidth\":0,\"ticks\":\"\"},\"colorscale\":[[0.0,\"#0d0887\"],[0.1111111111111111,\"#46039f\"],[0.2222222222222222,\"#7201a8\"],[0.3333333333333333,\"#9c179e\"],[0.4444444444444444,\"#bd3786\"],[0.5555555555555556,\"#d8576b\"],[0.6666666666666666,\"#ed7953\"],[0.7777777777777778,\"#fb9f3a\"],[0.8888888888888888,\"#fdca26\"],[1.0,\"#f0f921\"]]}],\"choropleth\":[{\"type\":\"choropleth\",\"colorbar\":{\"outlinewidth\":0,\"ticks\":\"\"}}],\"histogram2d\":[{\"type\":\"histogram2d\",\"colorbar\":{\"outlinewidth\":0,\"ticks\":\"\"},\"colorscale\":[[0.0,\"#0d0887\"],[0.1111111111111111,\"#46039f\"],[0.2222222222222222,\"#7201a8\"],[0.3333333333333333,\"#9c179e\"],[0.4444444444444444,\"#bd3786\"],[0.5555555555555556,\"#d8576b\"],[0.6666666666666666,\"#ed7953\"],[0.7777777777777778,\"#fb9f3a\"],[0.8888888888888888,\"#fdca26\"],[1.0,\"#f0f921\"]]}],\"heatmap\":[{\"type\":\"heatmap\",\"colorbar\":{\"outlinewidth\":0,\"ticks\":\"\"},\"colorscale\":[[0.0,\"#0d0887\"],[0.1111111111111111,\"#46039f\"],[0.2222222222222222,\"#7201a8\"],[0.3333333333333333,\"#9c179e\"],[0.4444444444444444,\"#bd3786\"],[0.5555555555555556,\"#d8576b\"],[0.6666666666666666,\"#ed7953\"],[0.7777777777777778,\"#fb9f3a\"],[0.8888888888888888,\"#fdca26\"],[1.0,\"#f0f921\"]]}],\"heatmapgl\":[{\"type\":\"heatmapgl\",\"colorbar\":{\"outlinewidth\":0,\"ticks\":\"\"},\"colorscale\":[[0.0,\"#0d0887\"],[0.1111111111111111,\"#46039f\"],[0.2222222222222222,\"#7201a8\"],[0.3333333333333333,\"#9c179e\"],[0.4444444444444444,\"#bd3786\"],[0.5555555555555556,\"#d8576b\"],[0.6666666666666666,\"#ed7953\"],[0.7777777777777778,\"#fb9f3a\"],[0.8888888888888888,\"#fdca26\"],[1.0,\"#f0f921\"]]}],\"contourcarpet\":[{\"type\":\"contourcarpet\",\"colorbar\":{\"outlinewidth\":0,\"ticks\":\"\"}}],\"contour\":[{\"type\":\"contour\",\"colorbar\":{\"outlinewidth\":0,\"ticks\":\"\"},\"colorscale\":[[0.0,\"#0d0887\"],[0.1111111111111111,\"#46039f\"],[0.2222222222222222,\"#7201a8\"],[0.3333333333333333,\"#9c179e\"],[0.4444444444444444,\"#bd3786\"],[0.5555555555555556,\"#d8576b\"],[0.6666666666666666,\"#ed7953\"],[0.7777777777777778,\"#fb9f3a\"],[0.8888888888888888,\"#fdca26\"],[1.0,\"#f0f921\"]]}],\"surface\":[{\"type\":\"surface\",\"colorbar\":{\"outlinewidth\":0,\"ticks\":\"\"},\"colorscale\":[[0.0,\"#0d0887\"],[0.1111111111111111,\"#46039f\"],[0.2222222222222222,\"#7201a8\"],[0.3333333333333333,\"#9c179e\"],[0.4444444444444444,\"#bd3786\"],[0.5555555555555556,\"#d8576b\"],[0.6666666666666666,\"#ed7953\"],[0.7777777777777778,\"#fb9f3a\"],[0.8888888888888888,\"#fdca26\"],[1.0,\"#f0f921\"]]}],\"mesh3d\":[{\"type\":\"mesh3d\",\"colorbar\":{\"outlinewidth\":0,\"ticks\":\"\"}}],\"scatter\":[{\"fillpattern\":{\"fillmode\":\"overlay\",\"size\":10,\"solidity\":0.2},\"type\":\"scatter\"}],\"parcoords\":[{\"type\":\"parcoords\",\"line\":{\"colorbar\":{\"outlinewidth\":0,\"ticks\":\"\"}}}],\"scatterpolargl\":[{\"type\":\"scatterpolargl\",\"marker\":{\"colorbar\":{\"outlinewidth\":0,\"ticks\":\"\"}}}],\"bar\":[{\"error_x\":{\"color\":\"#2a3f5f\"},\"error_y\":{\"color\":\"#2a3f5f\"},\"marker\":{\"line\":{\"color\":\"#E5ECF6\",\"width\":0.5},\"pattern\":{\"fillmode\":\"overlay\",\"size\":10,\"solidity\":0.2}},\"type\":\"bar\"}],\"scattergeo\":[{\"type\":\"scattergeo\",\"marker\":{\"colorbar\":{\"outlinewidth\":0,\"ticks\":\"\"}}}],\"scatterpolar\":[{\"type\":\"scatterpolar\",\"marker\":{\"colorbar\":{\"outlinewidth\":0,\"ticks\":\"\"}}}],\"histogram\":[{\"marker\":{\"pattern\":{\"fillmode\":\"overlay\",\"size\":10,\"solidity\":0.2}},\"type\":\"histogram\"}],\"scattergl\":[{\"type\":\"scattergl\",\"marker\":{\"colorbar\":{\"outlinewidth\":0,\"ticks\":\"\"}}}],\"scatter3d\":[{\"type\":\"scatter3d\",\"line\":{\"colorbar\":{\"outlinewidth\":0,\"ticks\":\"\"}},\"marker\":{\"colorbar\":{\"outlinewidth\":0,\"ticks\":\"\"}}}],\"scattermapbox\":[{\"type\":\"scattermapbox\",\"marker\":{\"colorbar\":{\"outlinewidth\":0,\"ticks\":\"\"}}}],\"scatterternary\":[{\"type\":\"scatterternary\",\"marker\":{\"colorbar\":{\"outlinewidth\":0,\"ticks\":\"\"}}}],\"scattercarpet\":[{\"type\":\"scattercarpet\",\"marker\":{\"colorbar\":{\"outlinewidth\":0,\"ticks\":\"\"}}}],\"carpet\":[{\"aaxis\":{\"endlinecolor\":\"#2a3f5f\",\"gridcolor\":\"white\",\"linecolor\":\"white\",\"minorgridcolor\":\"white\",\"startlinecolor\":\"#2a3f5f\"},\"baxis\":{\"endlinecolor\":\"#2a3f5f\",\"gridcolor\":\"white\",\"linecolor\":\"white\",\"minorgridcolor\":\"white\",\"startlinecolor\":\"#2a3f5f\"},\"type\":\"carpet\"}],\"table\":[{\"cells\":{\"fill\":{\"color\":\"#EBF0F8\"},\"line\":{\"color\":\"white\"}},\"header\":{\"fill\":{\"color\":\"#C8D4E3\"},\"line\":{\"color\":\"white\"}},\"type\":\"table\"}],\"barpolar\":[{\"marker\":{\"line\":{\"color\":\"#E5ECF6\",\"width\":0.5},\"pattern\":{\"fillmode\":\"overlay\",\"size\":10,\"solidity\":0.2}},\"type\":\"barpolar\"}],\"pie\":[{\"automargin\":true,\"type\":\"pie\"}]},\"layout\":{\"autotypenumbers\":\"strict\",\"colorway\":[\"#636efa\",\"#EF553B\",\"#00cc96\",\"#ab63fa\",\"#FFA15A\",\"#19d3f3\",\"#FF6692\",\"#B6E880\",\"#FF97FF\",\"#FECB52\"],\"font\":{\"color\":\"#2a3f5f\"},\"hovermode\":\"closest\",\"hoverlabel\":{\"align\":\"left\"},\"paper_bgcolor\":\"white\",\"plot_bgcolor\":\"#E5ECF6\",\"polar\":{\"bgcolor\":\"#E5ECF6\",\"angularaxis\":{\"gridcolor\":\"white\",\"linecolor\":\"white\",\"ticks\":\"\"},\"radialaxis\":{\"gridcolor\":\"white\",\"linecolor\":\"white\",\"ticks\":\"\"}},\"ternary\":{\"bgcolor\":\"#E5ECF6\",\"aaxis\":{\"gridcolor\":\"white\",\"linecolor\":\"white\",\"ticks\":\"\"},\"baxis\":{\"gridcolor\":\"white\",\"linecolor\":\"white\",\"ticks\":\"\"},\"caxis\":{\"gridcolor\":\"white\",\"linecolor\":\"white\",\"ticks\":\"\"}},\"coloraxis\":{\"colorbar\":{\"outlinewidth\":0,\"ticks\":\"\"}},\"colorscale\":{\"sequential\":[[0.0,\"#0d0887\"],[0.1111111111111111,\"#46039f\"],[0.2222222222222222,\"#7201a8\"],[0.3333333333333333,\"#9c179e\"],[0.4444444444444444,\"#bd3786\"],[0.5555555555555556,\"#d8576b\"],[0.6666666666666666,\"#ed7953\"],[0.7777777777777778,\"#fb9f3a\"],[0.8888888888888888,\"#fdca26\"],[1.0,\"#f0f921\"]],\"sequentialminus\":[[0.0,\"#0d0887\"],[0.1111111111111111,\"#46039f\"],[0.2222222222222222,\"#7201a8\"],[0.3333333333333333,\"#9c179e\"],[0.4444444444444444,\"#bd3786\"],[0.5555555555555556,\"#d8576b\"],[0.6666666666666666,\"#ed7953\"],[0.7777777777777778,\"#fb9f3a\"],[0.8888888888888888,\"#fdca26\"],[1.0,\"#f0f921\"]],\"diverging\":[[0,\"#8e0152\"],[0.1,\"#c51b7d\"],[0.2,\"#de77ae\"],[0.3,\"#f1b6da\"],[0.4,\"#fde0ef\"],[0.5,\"#f7f7f7\"],[0.6,\"#e6f5d0\"],[0.7,\"#b8e186\"],[0.8,\"#7fbc41\"],[0.9,\"#4d9221\"],[1,\"#276419\"]]},\"xaxis\":{\"gridcolor\":\"white\",\"linecolor\":\"white\",\"ticks\":\"\",\"title\":{\"standoff\":15},\"zerolinecolor\":\"white\",\"automargin\":true,\"zerolinewidth\":2},\"yaxis\":{\"gridcolor\":\"white\",\"linecolor\":\"white\",\"ticks\":\"\",\"title\":{\"standoff\":15},\"zerolinecolor\":\"white\",\"automargin\":true,\"zerolinewidth\":2},\"scene\":{\"xaxis\":{\"backgroundcolor\":\"#E5ECF6\",\"gridcolor\":\"white\",\"linecolor\":\"white\",\"showbackground\":true,\"ticks\":\"\",\"zerolinecolor\":\"white\",\"gridwidth\":2},\"yaxis\":{\"backgroundcolor\":\"#E5ECF6\",\"gridcolor\":\"white\",\"linecolor\":\"white\",\"showbackground\":true,\"ticks\":\"\",\"zerolinecolor\":\"white\",\"gridwidth\":2},\"zaxis\":{\"backgroundcolor\":\"#E5ECF6\",\"gridcolor\":\"white\",\"linecolor\":\"white\",\"showbackground\":true,\"ticks\":\"\",\"zerolinecolor\":\"white\",\"gridwidth\":2}},\"shapedefaults\":{\"line\":{\"color\":\"#2a3f5f\"}},\"annotationdefaults\":{\"arrowcolor\":\"#2a3f5f\",\"arrowhead\":0,\"arrowwidth\":1},\"geo\":{\"bgcolor\":\"white\",\"landcolor\":\"#E5ECF6\",\"subunitcolor\":\"white\",\"showland\":true,\"showlakes\":true,\"lakecolor\":\"white\"},\"title\":{\"x\":0.05},\"mapbox\":{\"style\":\"light\"}}},\"scene\":{\"domain\":{\"x\":[0.0,1.0],\"y\":[0.0,1.0]},\"xaxis\":{\"title\":{\"text\":\"sepal_length\"}},\"yaxis\":{\"title\":{\"text\":\"sepal_width\"}},\"zaxis\":{\"title\":{\"text\":\"petal_length\"}}},\"legend\":{\"title\":{\"text\":\"species\"},\"tracegroupgap\":0,\"itemsizing\":\"constant\"},\"margin\":{\"t\":60}},                        {\"responsive\": true}                    ).then(function(){\n",
              "                            \n",
              "var gd = document.getElementById('0afd0fa8-b5e2-4656-b9da-4b2f21540262');\n",
              "var x = new MutationObserver(function (mutations, observer) {{\n",
              "        var display = window.getComputedStyle(gd).display;\n",
              "        if (!display || display === 'none') {{\n",
              "            console.log([gd, 'removed!']);\n",
              "            Plotly.purge(gd);\n",
              "            observer.disconnect();\n",
              "        }}\n",
              "}});\n",
              "\n",
              "// Listen for the removal of the full notebook cells\n",
              "var notebookContainer = gd.closest('#notebook-container');\n",
              "if (notebookContainer) {{\n",
              "    x.observe(notebookContainer, {childList: true});\n",
              "}}\n",
              "\n",
              "// Listen for the clearing of the current output cell\n",
              "var outputEl = gd.closest('.output');\n",
              "if (outputEl) {{\n",
              "    x.observe(outputEl, {childList: true});\n",
              "}}\n",
              "\n",
              "                        })                };                            </script>        </div>\n",
              "</body>\n",
              "</html>"
            ]
          },
          "metadata": {}
        }
      ]
    }
  ]
}